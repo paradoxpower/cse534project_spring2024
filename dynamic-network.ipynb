{
 "cells": [
  {
   "cell_type": "markdown",
   "id": "9fee39a3-8add-4314-b667-cdc40326de0f",
   "metadata": {},
   "source": [
    "# Project Notebook"
   ]
  },
  {
   "cell_type": "markdown",
   "id": "5f84822f-a62c-46ad-9f75-91f20a3c039c",
   "metadata": {},
   "source": [
    "## General Imports"
   ]
  },
  {
   "cell_type": "code",
   "execution_count": null,
   "id": "bc8e42b6-f941-4898-9ebe-8537084705ae",
   "metadata": {},
   "outputs": [],
   "source": [
    "import os\n",
    "import json\n",
    "import traceback"
   ]
  },
  {
   "cell_type": "markdown",
   "id": "0d9f0a5a-687e-4868-9bd5-a3c2442984df",
   "metadata": {},
   "source": [
    "## Import the fablib Library"
   ]
  },
  {
   "cell_type": "code",
   "execution_count": null,
   "id": "332f02b5-beb9-4594-baea-051f60a58531",
   "metadata": {},
   "outputs": [],
   "source": [
    "from fabrictestbed_extensions.fablib.fablib import FablibManager as fablib_manager\n",
    "fablib = fablib_manager() \n",
    "conf = fablib.show_config()"
   ]
  },
  {
   "cell_type": "markdown",
   "id": "5ed64a0c-a312-4c02-a840-b2d87a1024b9",
   "metadata": {},
   "source": [
    "## MFLib Imports"
   ]
  },
  {
   "cell_type": "code",
   "execution_count": null,
   "id": "838de8f7-7497-4aa5-a529-4140f9c367e1",
   "metadata": {},
   "outputs": [],
   "source": [
    "import mflib \n",
    "print(f\"MFLib version  {mflib.__version__} \" )\n",
    "\n",
    "from mflib.mflib import MFLib"
   ]
  },
  {
   "cell_type": "code",
   "execution_count": null,
   "id": "feb3c693-eacf-4d6d-b7bf-31a637fda857",
   "metadata": {},
   "outputs": [],
   "source": [
    "from fabrictestbed_extensions.fablib.fablib import FablibManager as fablib_manager\n",
    "\n",
    "try:\n",
    "    fablib = fablib_manager()\n",
    "                    \n",
    "    fablib.show_config()\n",
    "except Exception as e:\n",
    "    print(f\"Exception: {e}\")"
   ]
  },
  {
   "cell_type": "markdown",
   "id": "efffa87c-e617-4eb0-a18a-b45712d35195",
   "metadata": {},
   "source": [
    "## Establish the sets of nodes\n",
    "\n",
    "\"node_conf\" will hold the collection of L3 Nodes\n",
    "\"net_conf\" will hold the L2 nodes connecting the L3 Nodes\n",
    "\"route_conf\" is the live connections between nodes"
   ]
  },
  {
   "cell_type": "code",
   "execution_count": null,
   "id": "fbe9ceec-fa16-454f-bb98-588ccc68571b",
   "metadata": {},
   "outputs": [],
   "source": [
    "#Needs polish\n",
    "slice_name=\"topology-test-\" + fablib.get_bastion_username()\n",
    "\n",
    "[site1,site2,site3,site4,site5] = fablib.get_random_sites(count=5, avoid=[\"TOKY\",\"FIU\",\"CERN\",\"DALL\",\"GPN\",\"LBNL\",\"RENC\",\"SALT\",\"TACC\",\"UKY\",\"WASH\",\"NCSA\",\"LOSA\",\"GATECH\",\"INDI\",\"MAX\", \"MASS\",\"NEWY\",\"SRI\",\"UCSD\"])\n",
    "\n",
    "node_conf = [\n",
    " {'name': \"consumer1\", 'site': site1, 'cores': 2, 'ram': 4, 'disk': 10, 'image': 'default_ubuntu_20', 'packages': ['net-tools', 'iperf3', 'moreutils']}, \n",
    " {'name': \"consumer2\", 'site': site2, 'cores': 2, 'ram': 4, 'disk': 10, 'image': 'default_ubuntu_20', 'packages': ['net-tools', 'iperf3', 'moreutils']}, \n",
    " {'name': \"server\",  'site': site3, 'cores': 2, 'ram': 4, 'disk': 10, 'image': 'default_ubuntu_20', 'packages': ['net-tools', 'iperf3', 'moreutils']}, \n",
    " {'name': \"router1\", 'site': site4, 'cores': 2, 'ram': 4, 'disk': 10, 'image': 'default_ubuntu_20', 'packages': ['net-tools']}, \n",
    " {'name': \"router2\", 'site': site5, 'cores': 2, 'ram': 4, 'disk': 10, 'image': 'default_ubuntu_20', 'packages': ['net-tools']}\n",
    "]\n",
    "\n",
    "net_conf = [\n",
    " {\"name\": \"net_c1r1\", \"subnet\": \"10.10.1.0/24\", \"nodes\": [{\"name\": \"consumer1\", \"addr\": \"10.10.1.100\"}, {\"name\": \"router1\", \"addr\": \"10.10.1.10\"}]},\n",
    " {\"name\": \"net_c1r2\", \"subnet\": \"10.10.2.0/24\", \"nodes\": [{\"name\": \"consumer1\", \"addr\": \"10.10.2.200\"}, {\"name\": \"router2\", \"addr\": \"10.10.2.20\"}]},\n",
    " {\"name\": \"net_c2r2\", \"subnet\": \"10.10.3.0/24\", \"nodes\": [{\"name\": \"consumer2\", \"addr\": \"10.10.3.200\"}, {\"name\": \"router2\", \"addr\": \"10.10.3.20\"}]},\n",
    " {\"name\": \"net_sr1\",  \"subnet\": \"10.10.4.0/24\", \"nodes\": [{\"name\": \"server\", \"addr\": \"10.10.4.100\"}, {\"name\": \"router1\", \"addr\": \"10.10.4.10\"}]},\n",
    " {\"name\": \"net_sr2\",  \"subnet\": \"10.10.5.0/24\", \"nodes\": [{\"name\": \"server\", \"addr\": \"10.10.5.200\"}, {\"name\": \"router2\", \"addr\": \"10.10.5.20\"}]}\n",
    "]\n",
    "\n",
    "route_config = [\n",
    "    #consumer 1 links\n",
    "    {\"addr\": \"10.10.4.0/24\", \"gw\": \"10.10.1.10\", \"nodes\": [\"consumer1\"]}, #can reach 10.10.4.0 (server) subnet through router1 gw\n",
    "    {\"addr\": \"10.10.3.0/24\", \"gw\": \"10.10.2.20\", \"nodes\": [\"consumer1\"]}, #can reach 10.10.3.0 (consumer2) subnet through router2 gw\n",
    "    {\"addr\": \"10.10.5.0/24\", \"gw\": \"10.10.2.20\", \"nodes\": [\"consumer1\"]}, #can reach 10.10.5.0 (server) subnet through router2 gw\n",
    "    #consumer 2 (no fwd-ing link to rotuer 1 set-up here)\n",
    "    {\"addr\": \"10.10.2.0/24\", \"gw\": \"10.10.3.20\", \"nodes\": [\"consumer2\"]}, #can reach 10.10.2.0 (consumer1) subnet through router2 gw\n",
    "    {\"addr\": \"10.10.5.0/24\", \"gw\": \"10.10.3.20\", \"nodes\": [\"consumer2\"]}, #can reach 10.10.5.0 (server) subnet through router2 gw\n",
    "    #server links\n",
    "    {\"addr\": \"10.10.1.0/24\", \"gw\": \"10.10.4.10\", \"nodes\": [\"server\"]}, #can reach 10.10.1.0 (consumer1) subnet through router1 gw\n",
    "    {\"addr\": \"10.10.2.0/24\", \"gw\": \"10.10.5.20\", \"nodes\": [\"server\"]}, #can reach 10.10.2.0 (consumer1) subnet through router2 gw\n",
    "    {\"addr\": \"10.10.3.0/24\", \"gw\": \"10.10.5.20\", \"nodes\": [\"server\"]}  #can reach 10.10.3.0 (consumer2) subnet through router2 gw\n",
    "]\n",
    "\n",
    "print(f\"Setting up slice {slice_name}\")\n",
    "print(f\"Using sites {site1}, {site2}, {site3}, {site4}, {site5}\")"
   ]
  },
  {
   "cell_type": "markdown",
   "id": "cfdf0da9-0979-4554-8af6-848c7d003f63",
   "metadata": {},
   "source": [
    "## Check resources\n",
    "\n",
    "Check if you have a pre-existing slice by this name already running\n",
    "\n",
    "Don't attempt to submit the slice if you've already defined one by this name"
   ]
  },
  {
   "cell_type": "code",
   "execution_count": null,
   "id": "65af99bb-4c85-44d6-b137-e8fb4f19c7e4",
   "metadata": {},
   "outputs": [],
   "source": [
    "try:\n",
    "    slice = fablib.get_slice(slice_name)\n",
    "    print(\"You already have a slice by this name!\")\n",
    "    print(\"If you previously reserved resources, skip to the 'log in to resources' section.\")\n",
    "except:\n",
    "    print(\"You don't have a slice named %s yet.\" % slice_name)\n",
    "    print(\"Continue to the next step to make one.\")\n",
    "    slice = fablib.new_slice(name=slice_name)"
   ]
  },
  {
   "cell_type": "markdown",
   "id": "72e46eee-4fdc-4e94-b4c5-554e7d7c91b2",
   "metadata": {},
   "source": [
    "## Node Set-up\n",
    "\n",
    "Following example code, this will set-up the L2 & L3 networks per the configured lists"
   ]
  },
  {
   "cell_type": "code",
   "execution_count": null,
   "id": "2eb35ed4-49ae-4266-bcba-e032f8583211",
   "metadata": {},
   "outputs": [],
   "source": [
    "# this cell sets up the nodes\n",
    "for n in node_conf:\n",
    "    slice.add_node(name=n['name'], site=n['site'], \n",
    "                   cores=n['cores'], \n",
    "                   ram=n['ram'], \n",
    "                   disk=n['disk'], \n",
    "                   image=n['image'])"
   ]
  },
  {
   "cell_type": "code",
   "execution_count": null,
   "id": "732e839f-5d18-4834-a373-260f4fa3c08f",
   "metadata": {},
   "outputs": [],
   "source": [
    "# this cell iterates each entry in the net_conf table\n",
    "for n in net_conf:\n",
    "    ifaces = []\n",
    "    for node in n['nodes']:\n",
    "        ifaces.append( slice.get_node(node[\"name\"]).add_component(model=\"NIC_Basic\", name=n[\"name\"]).get_interfaces()[0] )\n",
    "    slice.add_l2network(name=n[\"name\"], interfaces=ifaces)"
   ]
  },
  {
   "cell_type": "markdown",
   "id": "2cbb923d-c8c0-42ab-91a5-cea02d27a024",
   "metadata": {},
   "source": [
    "## Set-up the MFLib monitoring node\n",
    "Create a node that will monitor the status of the other nodes\n",
    "\n",
    "This step GREATLY increases slice requisition time. If debugging node links, do not add the MFLib monitoring tool."
   ]
  },
  {
   "cell_type": "code",
   "execution_count": null,
   "id": "5149ecae-9c08-4a10-9964-8e0d7c25f7e1",
   "metadata": {},
   "outputs": [],
   "source": [
    "# Add measurement node to topology using static method.\n",
    "MFLib.addMeasNode(slice, disk=100, image='docker_ubuntu_20')\n",
    "print(\"MFLib Node added\")"
   ]
  },
  {
   "cell_type": "markdown",
   "id": "4b4ff652-8824-47c6-a1c1-4a5ee172bb22",
   "metadata": {},
   "source": [
    "## Submit the slice for use"
   ]
  },
  {
   "cell_type": "code",
   "execution_count": null,
   "id": "14d22be5-fcf3-4e3e-bf9c-4d50148fbd1d",
   "metadata": {},
   "outputs": [],
   "source": [
    "slice.submit()"
   ]
  },
  {
   "cell_type": "markdown",
   "id": "842597dc-8f76-4a01-84c5-7f7f2e7bf257",
   "metadata": {},
   "source": [
    "This step will pend until the above slice is ready for use. Helps prevent trying to configure nodes that don't exist."
   ]
  },
  {
   "cell_type": "code",
   "execution_count": null,
   "id": "0e6b4ded-f013-4b3f-b6bd-926c63026b3f",
   "metadata": {},
   "outputs": [],
   "source": [
    "slice.get_state()\n",
    "slice.wait_ssh(progress=True)"
   ]
  },
  {
   "cell_type": "markdown",
   "id": "1190cb26-16bf-41e8-95d3-5984dea39248",
   "metadata": {},
   "source": [
    "## Configure Resources"
   ]
  },
  {
   "cell_type": "code",
   "execution_count": null,
   "id": "e957a484-b239-4cf3-8b54-0359bc0d823a",
   "metadata": {},
   "outputs": [],
   "source": [
    "slice = fablib.get_slice(name=slice_name)"
   ]
  },
  {
   "cell_type": "code",
   "execution_count": null,
   "id": "25cad710-6b33-455f-bbd4-a95dbd6a107f",
   "metadata": {},
   "outputs": [],
   "source": [
    "# install packages\n",
    "# this will take a while and will run in background while you do other steps\n",
    "for n in node_conf:\n",
    "    if len(n['packages']):\n",
    "        node = slice.get_node(n['name'])\n",
    "        pkg = \" \".join(n['packages'])\n",
    "        node.execute_thread(\"sudo apt update; sudo apt -y install %s\" % pkg)"
   ]
  },
  {
   "cell_type": "code",
   "execution_count": null,
   "id": "7fd84a9e-7978-470a-81ed-9f03170e1e08",
   "metadata": {},
   "outputs": [],
   "source": [
    "# bring interfaces up and either assign an address (if there is one) or flush address\n",
    "from ipaddress import ip_address, IPv4Address, IPv4Network\n",
    "\n",
    "for net in net_conf:\n",
    "    for n in net['nodes']:\n",
    "        if_name = n['name'] + '-' + net['name'] + '-p1'\n",
    "        iface = slice.get_interface(if_name)\n",
    "        iface.ip_link_up()\n",
    "        if n['addr']:\n",
    "            iface.ip_addr_add(addr=n['addr'], subnet=IPv4Network(net['subnet']))\n",
    "        else:\n",
    "            iface.get_node().execute(\"sudo ip addr flush dev %s\"  % iface.get_device_name())"
   ]
  },
  {
   "cell_type": "code",
   "execution_count": null,
   "id": "53a97bc3-8327-4eb4-8987-d896c767a95d",
   "metadata": {},
   "outputs": [],
   "source": [
    "# prepare a \"hosts\" file that has names and addresses of every node\n",
    "hosts_txt = [ \"%s\\t%s\" % ( n['addr'], n['name'] ) for net in net_conf  for n in net['nodes'] if type(n) is dict and n['addr']]\n",
    "for n in slice.get_nodes():\n",
    "    print(\"\")\n",
    "    for h in hosts_txt:\n",
    "        n.execute(\"echo %s | sudo tee -a /etc/hosts\" % h)"
   ]
  },
  {
   "cell_type": "code",
   "execution_count": null,
   "id": "18c46ac6-e00f-44d2-94cb-ce0aa531d2de",
   "metadata": {},
   "outputs": [],
   "source": [
    "# enable IPv4 forwarding on all nodes\n",
    "for n in slice.get_nodes():\n",
    "    n.execute(\"sudo sysctl -w net.ipv4.ip_forward=1\")"
   ]
  },
  {
   "cell_type": "code",
   "execution_count": null,
   "id": "0fc9ed79-0ec8-49aa-9565-a9f366bbbfa3",
   "metadata": {},
   "outputs": [],
   "source": [
    "# set up static routes\n",
    "for rt in route_config:\n",
    "    for n in rt['nodes']:\n",
    "        slice.get_node(name=n).ip_route_add(subnet=IPv4Network(rt['addr']), gateway=rt['gw'])"
   ]
  },
  {
   "cell_type": "markdown",
   "id": "1f2064b6-84b7-4a5d-97f8-76215c2e89b4",
   "metadata": {},
   "source": [
    "## Ping Test\n",
    "This step will ping each node from the consumers & server nodes. This step serves as a means to ensure all the connections are linked correclty and noone is \"blind\" to the netowrk."
   ]
  },
  {
   "cell_type": "code",
   "execution_count": null,
   "id": "9cb943fa-f996-4d00-9775-9147ab0de1b9",
   "metadata": {},
   "outputs": [],
   "source": [
    "#Consumer 1\n",
    "node = slice.get_node(name=\"consumer1\")\n",
    "try:\n",
    "    stdout, stderr = node.execute(f'ping -c 1 consumer1')\n",
    "except Exception as e:\n",
    "    print(f\"Exception: {e}\")\n",
    "print(\"====\")\n",
    "try:\n",
    "    stdout, stderr = node.execute(f'ping -c 1 consumer2')\n",
    "except Exception as e:\n",
    "    print(f\"Exception: {e}\")\n",
    "print(\"====\")\n",
    "try:\n",
    "    stdout, stderr = node.execute(f'ping -c 1 router1')\n",
    "except Exception as e:\n",
    "    print(f\"Exception: {e}\")\n",
    "print(\"====\")\n",
    "try:\n",
    "    stdout, stderr = node.execute(f'ping -c 1 router2')\n",
    "except Exception as e:\n",
    "    print(f\"Exception: {e}\")\n",
    "print(\"====\")\n",
    "try:\n",
    "    stdout, stderr = node.execute(f'ping -c 1 server')\n",
    "except Exception as e:\n",
    "    print(f\"Exception: {e}\")"
   ]
  },
  {
   "cell_type": "code",
   "execution_count": null,
   "id": "1efb50f7-a543-40be-9ab1-5a8c49420779",
   "metadata": {},
   "outputs": [],
   "source": [
    "#Consumer 2\n",
    "node = slice.get_node(name=\"consumer2\")\n",
    "try:\n",
    "    stdout, stderr = node.execute(f'ping -c 1 consumer1')\n",
    "except Exception as e:\n",
    "    print(f\"Exception: {e}\")\n",
    "print(\"====\")\n",
    "try:\n",
    "    stdout, stderr = node.execute(f'ping -c 1 consumer2')\n",
    "except Exception as e:\n",
    "    print(f\"Exception: {e}\")\n",
    "print(\"====\")\n",
    "try:\n",
    "    stdout, stderr = node.execute(f'ping -c 1 router1')\n",
    "except Exception as e:\n",
    "    print(f\"Exception: {e}\")\n",
    "print(\"====\")\n",
    "try:\n",
    "    stdout, stderr = node.execute(f'ping -c 1 router2')\n",
    "except Exception as e:\n",
    "    print(f\"Exception: {e}\")\n",
    "print(\"====\")\n",
    "try:\n",
    "    stdout, stderr = node.execute(f'ping -c 1 server')\n",
    "except Exception as e:\n",
    "    print(f\"Exception: {e}\")"
   ]
  },
  {
   "cell_type": "code",
   "execution_count": null,
   "id": "0b5257dc-d225-4609-aa56-19d4504ffa4d",
   "metadata": {},
   "outputs": [],
   "source": [
    "#Server\n",
    "node = slice.get_node(name=\"server\")\n",
    "try:\n",
    "    stdout, stderr = node.execute(f'ping -c 1 consumer1')\n",
    "except Exception as e:\n",
    "    print(f\"Exception: {e}\")\n",
    "print(\"====\")\n",
    "try:\n",
    "    stdout, stderr = node.execute(f'ping -c 1 consumer2')\n",
    "except Exception as e:\n",
    "    print(f\"Exception: {e}\")\n",
    "print(\"====\")\n",
    "try:\n",
    "    stdout, stderr = node.execute(f'ping -c 1 router1')\n",
    "except Exception as e:\n",
    "    print(f\"Exception: {e}\")\n",
    "print(\"====\")\n",
    "try:\n",
    "    stdout, stderr = node.execute(f'ping -c 1 router2')\n",
    "except Exception as e:\n",
    "    print(f\"Exception: {e}\")\n",
    "print(\"====\")\n",
    "try:\n",
    "    stdout, stderr = node.execute(f'ping -c 1 server')\n",
    "except Exception as e:\n",
    "    print(f\"Exception: {e}\")"
   ]
  },
  {
   "cell_type": "markdown",
   "id": "8a28b0ee-9898-4637-adb9-39e05275fb08",
   "metadata": {},
   "source": [
    "## Draw the Topology\n",
    "\n",
    "Draw the configuration based on the list arguments declared towards the start of this Notebook.\n",
    "\n",
    "Note -- This does not draw from what FABRIC actually created. It draws what we wanted FABRIC to create. If methods aren't called correctly there will be a disconnect between these two."
   ]
  },
  {
   "cell_type": "code",
   "execution_count": null,
   "id": "fede2089-99df-4a5c-8c27-62c96d6d48c3",
   "metadata": {},
   "outputs": [],
   "source": [
    "l2_nets = []\n",
    "hosts   = []\n",
    "l3_nets = []\n",
    "for n in slice.get_l2networks():\n",
    "    print( \"L2 \" + n.get_name() )\n",
    "    l2_nets.append( (n.get_name(), {'color': 'lavender'}) )\n",
    "for n in slice.get_l3networks():\n",
    "    print( \"L3 \" + n.get_name() )\n",
    "    l3_nets.append( (n.get_name(), {'color': 'pink'}) )\n",
    "for n in slice.get_nodes():\n",
    "    print( \"Node \" + n.get_name() )\n",
    "    hosts.append( (n.get_name(), {'color': 'lightblue'}) )\n",
    "nodes   = l2_nets + l3_nets + hosts\n",
    "\n",
    "edges = []\n",
    "for iface in slice.get_interfaces():\n",
    "    ifDict = iface.toDict()\n",
    "    edges.append( (ifDict['network'], ifDict['node'], {'label': ifDict['physical_dev'] + '\\n' + ifDict['ip_addr'] + '\\n' + ifDict['mac']}) )\n",
    "     "
   ]
  },
  {
   "cell_type": "code",
   "execution_count": null,
   "id": "03630c56-82cf-40d6-8ec2-1d6d6611928c",
   "metadata": {},
   "outputs": [],
   "source": [
    "import networkx as nx\n",
    "import matplotlib.pyplot as plt\n",
    "plt.figure(figsize=(len(nodes),len(nodes)))\n",
    "G = nx.Graph()\n",
    "G.add_nodes_from(nodes)\n",
    "G.add_edges_from(edges)\n",
    "pos = nx.spring_layout(G)\n",
    "nx.draw(G, pos, node_shape='s',  \n",
    "        node_color=[n[1]['color'] for n in nodes], \n",
    "        node_size=[len(n[0])*400 for n in nodes],  \n",
    "        with_labels=True);\n",
    "\n",
    "nx.draw_networkx_edge_labels(G, pos,\n",
    "                             edge_labels=nx.get_edge_attributes(G,'label'),\n",
    "                             font_color='gray',  font_size=8, rotate=False);"
   ]
  },
  {
   "cell_type": "markdown",
   "id": "4a0e630c-687d-4a92-80d0-bc4fff90c9ec",
   "metadata": {},
   "source": [
    "## Log into nodes\n",
    "Get the ssh commands for the Consumers, Routers, and Server"
   ]
  },
  {
   "cell_type": "code",
   "execution_count": null,
   "id": "fb25a215-f073-4a0d-b583-4994c1326539",
   "metadata": {},
   "outputs": [],
   "source": [
    "print( slice.get_node(\"consumer1\").get_ssh_command() )"
   ]
  },
  {
   "cell_type": "code",
   "execution_count": null,
   "id": "cf3255f4-84dc-45a8-951e-a6b38e2529ea",
   "metadata": {},
   "outputs": [],
   "source": [
    "print( slice.get_node(\"consumer2\").get_ssh_command() )"
   ]
  },
  {
   "cell_type": "code",
   "execution_count": null,
   "id": "82837b42-6c9c-49fa-8752-3ccddf3f1244",
   "metadata": {},
   "outputs": [],
   "source": [
    "print( slice.get_node(\"server\").get_ssh_command() )"
   ]
  },
  {
   "cell_type": "code",
   "execution_count": null,
   "id": "ce9a5ba0-7f41-48ab-bbb8-1994630ce332",
   "metadata": {},
   "outputs": [],
   "source": [
    "print( slice.get_node(\"router1\").get_ssh_command() )"
   ]
  },
  {
   "cell_type": "code",
   "execution_count": null,
   "id": "05e97510-05a2-4f18-8e78-6e346fa19f5f",
   "metadata": {},
   "outputs": [],
   "source": [
    "print( slice.get_node(\"router2\").get_ssh_command() )"
   ]
  },
  {
   "cell_type": "code",
   "execution_count": null,
   "id": "a5452374-182b-4139-add1-5d58e0838386",
   "metadata": {},
   "outputs": [],
   "source": [
    "print( slice.get_node(\"meas-node\").get_ssh_command() )"
   ]
  },
  {
   "cell_type": "markdown",
   "id": "4befb88b-957f-4ef0-9c91-919c64197bbf",
   "metadata": {},
   "source": [
    "## Initialize MFLib object"
   ]
  },
  {
   "cell_type": "code",
   "execution_count": null,
   "id": "ccfe164b-1817-4b2a-b871-054a1d68b121",
   "metadata": {},
   "outputs": [],
   "source": [
    "%%time\n",
    "mf = MFLib(slice_name)"
   ]
  },
  {
   "cell_type": "markdown",
   "id": "576bc80e-d9bb-4644-9d2b-71284ae6a599",
   "metadata": {},
   "source": [
    "## Install Prometheus and Grafana\n",
    "\n",
    "Install the 2 tools and then get the access information"
   ]
  },
  {
   "cell_type": "code",
   "execution_count": null,
   "id": "54986225-8f3b-44f0-8ad6-f2f439048729",
   "metadata": {},
   "outputs": [],
   "source": [
    "%%time\n",
    "instrumetize_results = mf.instrumentize( [\"prometheus\"] )"
   ]
  },
  {
   "cell_type": "code",
   "execution_count": null,
   "id": "e77f98ce-6a50-4907-98a9-a7790bbc3123",
   "metadata": {},
   "outputs": [],
   "source": [
    "# Grafana SSH Tunnel Command\n",
    "# mf.grafana_tunnel_local_port = 10010 # optionally change the port\n",
    "print(mf.grafana_tunnel)\n",
    "\n",
    "print(f\"Browse to https://localhost:{mf.grafana_tunnel_local_port}/grafana/dashboards?query=%2A\")"
   ]
  },
  {
   "cell_type": "code",
   "execution_count": null,
   "id": "bffef93a-5cbc-4ea6-9fde-59b9ea07209f",
   "metadata": {},
   "outputs": [],
   "source": [
    "# The grafana_manager service was created by the mf.instrumentize call.\n",
    "# Get access info for Grafana by using the mflib.info call to the grafana_manager.\n",
    "# Create a dictionary to pass to the service.\n",
    "data = {}\n",
    "# Set the info you want to get.\n",
    "data[\"get\"] = [\"admin_password\"]\n",
    "# Call info using service name and data dictionary.\n",
    "info_results = mf.info(\"grafana_manager\", data)\n",
    "print(info_results)"
   ]
  },
  {
   "cell_type": "markdown",
   "id": "bf3b99df-86a3-4b75-a669-50d8e23bf326",
   "metadata": {},
   "source": [
    "## Formulate Prometheus Queries\n",
    "The following steps help establish a means to query the Prometheus data set from the Command Line"
   ]
  },
  {
   "cell_type": "code",
   "execution_count": null,
   "id": "1146696f-3ad3-4128-87d8-4c1ccd638509",
   "metadata": {},
   "outputs": [],
   "source": [
    "from mflib.data_transfer import PrometheusExporter\n",
    "prom_tools = PrometheusExporter(slice_name=slice_name)"
   ]
  },
  {
   "cell_type": "code",
   "execution_count": null,
   "id": "76644d45-db56-4a7f-b658-271cf3381275",
   "metadata": {},
   "outputs": [],
   "source": [
    "# Get prometheus admin credentials so we can create snapshots\n",
    "data={}\n",
    "data[\"get\"] = [\"ht_user\", \"ht_password\"]\n",
    "prom_credentials = prom_tools.info(\"prometheus\", data)\n",
    "print( prom_credentials )"
   ]
  },
  {
   "cell_type": "markdown",
   "id": "158551d4-ee45-4fb5-91a8-e3e3f1afc0e5",
   "metadata": {},
   "source": [
    "Using the above logins to replace the `--user \"username\":\"password\"` in the following command\n",
    "The query still needs refining as it returns a timestamp at the moment"
   ]
  },
  {
   "cell_type": "markdown",
   "id": "4c6d9de3-35be-4cb8-8140-89d15f93bbfa",
   "metadata": {},
   "source": [
    "curl -G -k --user 'xypifhBC':'dElMwDyq' --data-urlencode 'query=node_network_receive_packets_total{instance=\"router2\",job=\"node\", device=\"enp9s0\"}' https://localhost:9090/api/v1/query"
   ]
  },
  {
   "cell_type": "markdown",
   "id": "08b42a7e-3920-4b76-a57c-2d2ec7cfc9f2",
   "metadata": {},
   "source": [
    "## Set up video stream components (IN WORK)"
   ]
  },
  {
   "cell_type": "markdown",
   "id": "be9f9342-8c09-480d-9d99-dae9f802ba24",
   "metadata": {},
   "source": [
    "### Server Config\n",
    "\n",
    "SSH into Router 1 from a terminal and then execute the following\n",
    "\n",
    "` sudo apt update ; sudo apt install -y apache2 ; wget https://nyu.box.com/shared/static/d6btpwf5lqmkqh53b52ynhmfthh2qtby.tgz -O media.tgz ; sudo tar -v -xzf media.tgz -C /var/www/html `\n",
    "\n",
    "### Router 1 Config\n",
    "\n",
    "SSH into Router 1 from a terminal and then execute the following\n",
    "\n",
    "`git clone https://github.com/NYU-METS/Main nyc-traces ; sudo apt update ; sudo apt install -y unrar-free ; unrar nyc-traces/Dataset/Dataset_1.rar ; wget https://raw.githubusercontent.com/teaching-on-testbeds/adaptive-video/main/rate-vary.sh -O ~/rate-vary.sh ; wget https://raw.githubusercontent.com/teaching-on-testbeds/adaptive-video/main/rate-set.sh -O ~/rate-set.sh `\n",
    "\n",
    "Before you can execute the \"rate-set.sh\", you will need to go in and edit one of the lines. Open \"rate-set.sh\" in vi\n",
    "\n",
    "Change the first line from\n",
    "\n",
    "`addr=$(dig +short @127.0.0.53 romeo)`\n",
    "\n",
    "to\n",
    "\n",
    "`addr=$(dig +short @127.0.0.53 consumer1)`\n",
    "\n",
    "Then run (The first time you run it, you may see an error referencing a problem deleting a qdisc, but you can safely ignore this error.)\n",
    "\n",
    "` bash rate-set.sh 300Kbit `\n",
    "\n",
    "### Router 2 Config\n",
    "\n",
    "SSH into Router 2 from a terminal and then execute the following\n",
    "\n",
    "`git clone https://github.com/NYU-METS/Main nyc-traces ; sudo apt update ; sudo apt install -y unrar-free ; unrar nyc-traces/Dataset/Dataset_1.rar ; wget https://raw.githubusercontent.com/teaching-on-testbeds/adaptive-video/main/rate-vary.sh -O ~/rate-vary.sh ; wget https://raw.githubusercontent.com/teaching-on-testbeds/adaptive-video/main/rate-set.sh -O ~/rate-set.sh `\n",
    "\n",
    "Before you can execute the \"rate-set.sh\", you will need to go in and edit one of the lines. Open \"rate-set.sh\" in vi\n",
    "\n",
    "Change the first line from\n",
    "\n",
    "`addr=$(dig +short @127.0.0.53 romeo)`\n",
    "\n",
    "to\n",
    "\n",
    "`addr=$(dig +short @127.0.0.53 consumer1)`\n",
    "\n",
    "You will then, in the same file, need to duplicate everything so that you can do the same steps for \"consumer2\" in a single script call\n",
    "\n",
    "Then run (The first time you run it, you may see an error referencing a problem deleting a qdisc, but you can safely ignore this error.)\n",
    "\n",
    "` bash rate-set.sh 400Kbit `\n",
    "\n",
    "### Consumer 1 Config\n",
    "\n",
    "SSH into Consumer 1 from a terminal and then execute the following\n",
    "\n",
    "` git clone https://github.com/teaching-on-testbeds/AStream ; sudo apt update ; sudo apt install -y python3 ffmpeg ` \n",
    "\n",
    "### Consumer 2 Config\n",
    "\n",
    "SSH into Consumer 2 from a terminal and then execute the following\n",
    "\n",
    "` git clone https://github.com/teaching-on-testbeds/AStream ; sudo apt update ; sudo apt install -y python3 ffmpeg ` "
   ]
  },
  {
   "cell_type": "markdown",
   "id": "e75d7461-09b2-4c42-a707-f68b135ab236",
   "metadata": {},
   "source": [
    "## Running Video Stream\n",
    "\n",
    "Once Configured, in the Consumer 1 & 2 terminals you will execute\n",
    "\n",
    "` python3 ~/AStream/dist/client/dash_client.py -m http://server/media/BigBuckBunny/4sec/BigBuckBunny_4s.mpd -p 'basic' -d `\n",
    "\n",
    "## Preparing Data for Collection\n",
    "\n",
    "At the end of the experiment you will need to prep the video stream for either or both consumers using\n",
    "\n",
    "` cp $(ls -t1  ~/ASTREAM_LOGS/DASH_BUFFER_LOG_*  | head -n 1 ) ~/ASTREAM_LOGS/DASH_BUFFER_LOG-last.csv ; suffix=$(ls -lt | grep \"TEMP_\" | head -n 1 | cut -f2 -d\"_\") ; cd ~/TEMP_$suffix ; rm -f ~/BigBuckBunny.mp4 ; cat BigBuckBunny_4s_init.mp4 $(ls -vx BigBuckBunny_*.m4s) > BigBuckBunny_tmp.mp4 ; ffmpeg -i  BigBuckBunny_tmp.mp4 -c copy ~/BigBuckBunny.mp4 ; cd ~ `"
   ]
  },
  {
   "cell_type": "markdown",
   "id": "01f553d4-b62a-464c-b372-20d7dd06a79b",
   "metadata": {},
   "source": [
    "## DEBUG Route Switching"
   ]
  },
  {
   "cell_type": "code",
   "execution_count": null,
   "id": "4aa66736-6b82-462f-860d-ba97f2b2523c",
   "metadata": {},
   "outputs": [],
   "source": [
    "slice.get_node(name=\"consumer1\").ip_route_del(subnet=IPv4Network(\"10.10.5.0/24\"), gateway=\"10.10.2.20\")"
   ]
  },
  {
   "cell_type": "code",
   "execution_count": null,
   "id": "541c011d-e43b-4bdf-8cdf-8757aee7c1b8",
   "metadata": {},
   "outputs": [],
   "source": [
    "slice.get_node(name=\"consumer1\").ip_route_del(subnet=IPv4Network(\"10.10.4.0/24\"), gateway=\"10.10.1.10\")"
   ]
  },
  {
   "cell_type": "code",
   "execution_count": null,
   "id": "49232d8c-229e-4af1-9ecd-096f9fd2bfa3",
   "metadata": {},
   "outputs": [],
   "source": [
    "slice.get_node(name=\"consumer1\").ip_route_add(subnet=IPv4Network(\"10.10.5.0/24\"), gateway=\"10.10.2.20\")"
   ]
  },
  {
   "cell_type": "code",
   "execution_count": null,
   "id": "8a3c6d58-6a7d-4371-932f-4c3d3585ac44",
   "metadata": {},
   "outputs": [],
   "source": [
    "slice.get_node(name=\"consumer1\").ip_route_add(subnet=IPv4Network(\"10.10.4.0/24\"), gateway=\"10.10.1.10\")"
   ]
  },
  {
   "cell_type": "code",
   "execution_count": null,
   "id": "9231d023-abed-4ecf-a74a-94da93468af4",
   "metadata": {},
   "outputs": [],
   "source": [
    "ifaceR1 = slice.get_node(\"consumer1\").get_component(\"net_c1r1\").get_interfaces()[0] #10.10.4.0 subnet path\n",
    "ifaceR2 = slice.get_node(\"consumer1\").get_component(\"net_c1r2\").get_interfaces()[0] #10.10.5.0 subnet path\n",
    "#ifaceR1.ip_link_down()\n",
    "#ifaceR1.ip_link_up()"
   ]
  },
  {
   "cell_type": "code",
   "execution_count": null,
   "id": "2674393b-2dda-4c75-b603-67ce47375013",
   "metadata": {},
   "outputs": [],
   "source": [
    "tmpIface = slice.get_node(\"router2\").get_component(\"net_c1r2\").get_interfaces()[0] #10.10.4.0 subnet path\n",
    "print( tmpIface.get_bandwidth() )"
   ]
  },
  {
   "cell_type": "markdown",
   "id": "2584d4e5-f1aa-4357-a79a-73692b513425",
   "metadata": {},
   "source": [
    "## Cleanup\n",
    "Step to delete the slice"
   ]
  },
  {
   "cell_type": "code",
   "execution_count": null,
   "id": "f96b31d3-c0b3-4f38-96d9-49ff37156419",
   "metadata": {},
   "outputs": [],
   "source": [
    "slice = fablib.get_slice(name=slice_name)\n",
    "slice.delete()"
   ]
  },
  {
   "cell_type": "code",
   "execution_count": null,
   "id": "86f9036a-6648-4e19-9d0d-6931ec46335f",
   "metadata": {},
   "outputs": [],
   "source": []
  }
 ],
 "metadata": {
  "kernelspec": {
   "display_name": "Python 3 (ipykernel)",
   "language": "python",
   "name": "python3"
  },
  "language_info": {
   "codemirror_mode": {
    "name": "ipython",
    "version": 3
   },
   "file_extension": ".py",
   "mimetype": "text/x-python",
   "name": "python",
   "nbconvert_exporter": "python",
   "pygments_lexer": "ipython3",
   "version": "3.10.6"
  }
 },
 "nbformat": 4,
 "nbformat_minor": 5
}
