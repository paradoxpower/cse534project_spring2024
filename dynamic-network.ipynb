{
 "cells": [
  {
   "cell_type": "markdown",
   "id": "9fee39a3-8add-4314-b667-cdc40326de0f",
   "metadata": {},
   "source": [
    "# Project Notebook"
   ]
  },
  {
   "cell_type": "markdown",
   "id": "5f84822f-a62c-46ad-9f75-91f20a3c039c",
   "metadata": {},
   "source": [
    "## General Imports"
   ]
  },
  {
   "cell_type": "code",
   "execution_count": null,
   "id": "bc8e42b6-f941-4898-9ebe-8537084705ae",
   "metadata": {},
   "outputs": [],
   "source": [
    "import os\n",
    "import json\n",
    "import traceback"
   ]
  },
  {
   "cell_type": "markdown",
   "id": "0d9f0a5a-687e-4868-9bd5-a3c2442984df",
   "metadata": {},
   "source": [
    "## Import the fablib Library"
   ]
  },
  {
   "cell_type": "code",
   "execution_count": null,
   "id": "332f02b5-beb9-4594-baea-051f60a58531",
   "metadata": {},
   "outputs": [],
   "source": [
    "from fabrictestbed_extensions.fablib.fablib import FablibManager as fablib_manager\n",
    "fablib = fablib_manager() \n",
    "conf = fablib.show_config()"
   ]
  },
  {
   "cell_type": "markdown",
   "id": "5ed64a0c-a312-4c02-a840-b2d87a1024b9",
   "metadata": {},
   "source": [
    "## MFLib Imports"
   ]
  },
  {
   "cell_type": "code",
   "execution_count": null,
   "id": "838de8f7-7497-4aa5-a529-4140f9c367e1",
   "metadata": {},
   "outputs": [],
   "source": [
    "import mflib \n",
    "print(f\"MFLib version  {mflib.__version__} \" )\n",
    "\n",
    "from mflib.mflib import MFLib"
   ]
  },
  {
   "cell_type": "code",
   "execution_count": null,
   "id": "feb3c693-eacf-4d6d-b7bf-31a637fda857",
   "metadata": {},
   "outputs": [],
   "source": [
    "from fabrictestbed_extensions.fablib.fablib import FablibManager as fablib_manager\n",
    "\n",
    "try:\n",
    "    fablib = fablib_manager()\n",
    "                    \n",
    "    fablib.show_config()\n",
    "except Exception as e:\n",
    "    print(f\"Exception: {e}\")"
   ]
  },
  {
   "cell_type": "markdown",
   "id": "efffa87c-e617-4eb0-a18a-b45712d35195",
   "metadata": {},
   "source": [
    "## Establish the sets of nodes\n",
    "\n",
    "\"node_conf\" will hold the collection of L3 Nodes\n",
    "\"net_conf\" will hold the L2 nodes connecting the L3 Nodes\n",
    "\"route_conf\" is the live connections between nodes"
   ]
  },
  {
   "cell_type": "code",
   "execution_count": null,
   "id": "fbe9ceec-fa16-454f-bb98-588ccc68571b",
   "metadata": {},
   "outputs": [],
   "source": [
    "#Needs polish\n",
    "slice_name=\"topology-test-\" + fablib.get_bastion_username()\n",
    "\n",
    "[site1,site2,site3,site4,site5] = fablib.get_random_sites(count=5, avoid=[\"TOKY\",\"FIU\",\"CERN\",\"DALL\",\"GPN\",\"LBNL\",\"RENC\",\"SALT\",\"TACC\",\"UKY\",\"WASH\",\"NCSA\",\"LOSA\",\"GATECH\",\"INDI\",\"MAX\", \"MASS\",\"NEWY\",\"SRI\",\"UCSD\"])\n",
    "\n",
    "node_conf = [\n",
    " {'name': \"consumer1\", 'site': site1, 'cores': 2, 'ram': 4, 'disk': 10, 'image': 'default_ubuntu_20', 'packages': ['net-tools', 'iperf3', 'moreutils']}, \n",
    " {'name': \"consumer2\", 'site': site2, 'cores': 2, 'ram': 4, 'disk': 10, 'image': 'default_ubuntu_20', 'packages': ['net-tools', 'iperf3', 'moreutils']}, \n",
    " {'name': \"server\",  'site': site3, 'cores': 2, 'ram': 4, 'disk': 10, 'image': 'default_ubuntu_20', 'packages': ['net-tools', 'iperf3', 'moreutils']}, \n",
    " {'name': \"router1\", 'site': site4, 'cores': 2, 'ram': 4, 'disk': 10, 'image': 'default_ubuntu_20', 'packages': ['net-tools']}, \n",
    " {'name': \"router2\", 'site': site5, 'cores': 2, 'ram': 4, 'disk': 10, 'image': 'default_ubuntu_20', 'packages': ['net-tools']}\n",
    "]\n",
    "\n",
    "net_conf = [\n",
    " {\"name\": \"net_c1r1\", \"subnet\": \"10.10.1.0/24\", \"nodes\": [{\"name\": \"consumer1\", \"addr\": \"10.10.1.100\"}, {\"name\": \"router1\", \"addr\": \"10.10.1.10\"}]},\n",
    " {\"name\": \"net_c1r2\", \"subnet\": \"10.10.2.0/24\", \"nodes\": [{\"name\": \"consumer1\", \"addr\": \"10.10.2.200\"}, {\"name\": \"router2\", \"addr\": \"10.10.2.20\"}]},\n",
    " {\"name\": \"net_c2r2\", \"subnet\": \"10.10.3.0/24\", \"nodes\": [{\"name\": \"consumer2\", \"addr\": \"10.10.3.200\"}, {\"name\": \"router2\", \"addr\": \"10.10.3.20\"}]},\n",
    " {\"name\": \"net_sr1\",  \"subnet\": \"10.10.4.0/24\", \"nodes\": [{\"name\": \"server\", \"addr\": \"10.10.4.100\"}, {\"name\": \"router1\", \"addr\": \"10.10.4.10\"}]},\n",
    " {\"name\": \"net_sr2\",  \"subnet\": \"10.10.5.0/24\", \"nodes\": [{\"name\": \"server\", \"addr\": \"10.10.5.200\"}, {\"name\": \"router2\", \"addr\": \"10.10.5.20\"}]}\n",
    "]\n",
    "\n",
    "route_config = [\n",
    "    #consumer 1 links\n",
    "    {\"addr\": \"10.10.4.0/24\", \"gw\": \"10.10.1.10\", \"nodes\": [\"consumer1\"]}, #can reach 10.10.4.0 (server) subnet through router1 gw\n",
    "    {\"addr\": \"10.10.3.0/24\", \"gw\": \"10.10.2.20\", \"nodes\": [\"consumer1\"]}, #can reach 10.10.3.0 (consumer2) subnet through router2 gw\n",
    "    {\"addr\": \"10.10.5.0/24\", \"gw\": \"10.10.2.20\", \"nodes\": [\"consumer1\"]}, #can reach 10.10.5.0 (server) subnet through router2 gw\n",
    "    #consumer 2 (no fwd-ing link to rotuer 1 set-up here)\n",
    "    {\"addr\": \"10.10.2.0/24\", \"gw\": \"10.10.3.20\", \"nodes\": [\"consumer2\"]}, #can reach 10.10.2.0 (consumer1) subnet through router2 gw\n",
    "    {\"addr\": \"10.10.5.0/24\", \"gw\": \"10.10.3.20\", \"nodes\": [\"consumer2\"]}, #can reach 10.10.5.0 (server) subnet through router2 gw\n",
    "    #server links\n",
    "    {\"addr\": \"10.10.1.0/24\", \"gw\": \"10.10.4.10\", \"nodes\": [\"server\"]}, #can reach 10.10.1.0 (consumer1) subnet through router1 gw\n",
    "    {\"addr\": \"10.10.2.0/24\", \"gw\": \"10.10.5.20\", \"nodes\": [\"server\"]}, #can reach 10.10.2.0 (consumer1) subnet through router2 gw\n",
    "    {\"addr\": \"10.10.3.0/24\", \"gw\": \"10.10.5.20\", \"nodes\": [\"server\"]}  #can reach 10.10.3.0 (consumer2) subnet through router2 gw\n",
    "]\n",
    "\n",
    "print(f\"Setting up slice {slice_name}\")\n",
    "print(f\"Using sites {site1}, {site2}, {site3}, {site4}, {site5}\")"
   ]
  },
  {
   "cell_type": "markdown",
   "id": "cfdf0da9-0979-4554-8af6-848c7d003f63",
   "metadata": {},
   "source": [
    "## Check resources\n",
    "\n",
    "Check if you have a pre-existing slice by this name already running\n",
    "\n",
    "Don't attempt to submit the slice if you've already defined one by this name"
   ]
  },
  {
   "cell_type": "code",
   "execution_count": null,
   "id": "65af99bb-4c85-44d6-b137-e8fb4f19c7e4",
   "metadata": {},
   "outputs": [],
   "source": [
    "try:\n",
    "    slice = fablib.get_slice(slice_name)\n",
    "    print(\"You already have a slice by this name!\")\n",
    "    print(\"If you previously reserved resources, skip to the 'log in to resources' section.\")\n",
    "except:\n",
    "    print(\"You don't have a slice named %s yet.\" % slice_name)\n",
    "    print(\"Continue to the next step to make one.\")\n",
    "    slice = fablib.new_slice(name=slice_name)"
   ]
  },
  {
   "cell_type": "markdown",
   "id": "72e46eee-4fdc-4e94-b4c5-554e7d7c91b2",
   "metadata": {},
   "source": [
    "## Node Set-up\n",
    "\n",
    "Following example code, this will set-up the L2 & L3 networks per the configured lists"
   ]
  },
  {
   "cell_type": "code",
   "execution_count": null,
   "id": "2eb35ed4-49ae-4266-bcba-e032f8583211",
   "metadata": {},
   "outputs": [],
   "source": [
    "# this cell sets up the nodes\n",
    "for n in node_conf:\n",
    "    slice.add_node(name=n['name'], site=n['site'], \n",
    "                   cores=n['cores'], \n",
    "                   ram=n['ram'], \n",
    "                   disk=n['disk'], \n",
    "                   image=n['image'])"
   ]
  },
  {
   "cell_type": "code",
   "execution_count": null,
   "id": "732e839f-5d18-4834-a373-260f4fa3c08f",
   "metadata": {},
   "outputs": [],
   "source": [
    "# this cell iterates each entry in the net_conf table\n",
    "for n in net_conf:\n",
    "    ifaces = []\n",
    "    for node in n['nodes']:\n",
    "        ifaces.append( slice.get_node(node[\"name\"]).add_component(model=\"NIC_Basic\", name=n[\"name\"]).get_interfaces()[0] )\n",
    "    slice.add_l2network(name=n[\"name\"], interfaces=ifaces)"
   ]
  },
  {
   "cell_type": "markdown",
   "id": "2cbb923d-c8c0-42ab-91a5-cea02d27a024",
   "metadata": {},
   "source": [
    "## Set-up the MFLib monitoring node\n",
    "Create a node that will monitor the status of the other nodes\n",
    "\n",
    "This step GREATLY increases slice requisition time. If debugging node links, do not add the MFLib monitoring tool."
   ]
  },
  {
   "cell_type": "code",
   "execution_count": null,
   "id": "5149ecae-9c08-4a10-9964-8e0d7c25f7e1",
   "metadata": {},
   "outputs": [],
   "source": [
    "# Add measurement node to topology using static method.\n",
    "MFLib.addMeasNode(slice, disk=100, image='docker_ubuntu_20')\n",
    "print(\"MFLib Node added\")"
   ]
  },
  {
   "cell_type": "markdown",
   "id": "4b4ff652-8824-47c6-a1c1-4a5ee172bb22",
   "metadata": {},
   "source": [
    "## Submit the slice for use"
   ]
  },
  {
   "cell_type": "code",
   "execution_count": null,
   "id": "14d22be5-fcf3-4e3e-bf9c-4d50148fbd1d",
   "metadata": {},
   "outputs": [],
   "source": [
    "slice.submit()"
   ]
  },
  {
   "cell_type": "markdown",
   "id": "842597dc-8f76-4a01-84c5-7f7f2e7bf257",
   "metadata": {},
   "source": [
    "This step will pend until the above slice is ready for use. Helps prevent trying to configure nodes that don't exist."
   ]
  },
  {
   "cell_type": "code",
   "execution_count": null,
   "id": "0e6b4ded-f013-4b3f-b6bd-926c63026b3f",
   "metadata": {},
   "outputs": [],
   "source": [
    "slice.get_state()\n",
    "slice.wait_ssh(progress=True)"
   ]
  },
  {
   "cell_type": "markdown",
   "id": "1190cb26-16bf-41e8-95d3-5984dea39248",
   "metadata": {},
   "source": [
    "## Configure Resources"
   ]
  },
  {
   "cell_type": "code",
   "execution_count": null,
   "id": "e957a484-b239-4cf3-8b54-0359bc0d823a",
   "metadata": {},
   "outputs": [],
   "source": [
    "slice = fablib.get_slice(name=slice_name)"
   ]
  },
  {
   "cell_type": "code",
   "execution_count": null,
   "id": "25cad710-6b33-455f-bbd4-a95dbd6a107f",
   "metadata": {},
   "outputs": [],
   "source": [
    "# install packages\n",
    "# this will take a while and will run in background while you do other steps\n",
    "for n in node_conf:\n",
    "    if len(n['packages']):\n",
    "        node = slice.get_node(n['name'])\n",
    "        pkg = \" \".join(n['packages'])\n",
    "        node.execute_thread(\"sudo apt update; sudo apt -y install %s\" % pkg)"
   ]
  },
  {
   "cell_type": "code",
   "execution_count": null,
   "id": "7fd84a9e-7978-470a-81ed-9f03170e1e08",
   "metadata": {},
   "outputs": [],
   "source": [
    "# bring interfaces up and either assign an address (if there is one) or flush address\n",
    "from ipaddress import ip_address, IPv4Address, IPv4Network\n",
    "\n",
    "for net in net_conf:\n",
    "    for n in net['nodes']:\n",
    "        if_name = n['name'] + '-' + net['name'] + '-p1'\n",
    "        iface = slice.get_interface(if_name)\n",
    "        iface.ip_link_up()\n",
    "        if n['addr']:\n",
    "            iface.ip_addr_add(addr=n['addr'], subnet=IPv4Network(net['subnet']))\n",
    "        else:\n",
    "            iface.get_node().execute(\"sudo ip addr flush dev %s\"  % iface.get_device_name())"
   ]
  },
  {
   "cell_type": "code",
   "execution_count": null,
   "id": "53a97bc3-8327-4eb4-8987-d896c767a95d",
   "metadata": {},
   "outputs": [],
   "source": [
    "# prepare a \"hosts\" file that has names and addresses of every node\n",
    "hosts_txt = [ \"%s\\t%s\" % ( n['addr'], n['name'] ) for net in net_conf  for n in net['nodes'] if type(n) is dict and n['addr']]\n",
    "for n in slice.get_nodes():\n",
    "    print(\"\")\n",
    "    for h in hosts_txt:\n",
    "        n.execute(\"echo %s | sudo tee -a /etc/hosts\" % h)"
   ]
  },
  {
   "cell_type": "code",
   "execution_count": null,
   "id": "18c46ac6-e00f-44d2-94cb-ce0aa531d2de",
   "metadata": {},
   "outputs": [],
   "source": [
    "# enable IPv4 forwarding on all nodes\n",
    "for n in slice.get_nodes():\n",
    "    n.execute(\"sudo sysctl -w net.ipv4.ip_forward=1\")"
   ]
  },
  {
   "cell_type": "code",
   "execution_count": null,
   "id": "0fc9ed79-0ec8-49aa-9565-a9f366bbbfa3",
   "metadata": {},
   "outputs": [],
   "source": [
    "# set up static routes\n",
    "for rt in route_config:\n",
    "    for n in rt['nodes']:\n",
    "        slice.get_node(name=n).ip_route_add(subnet=IPv4Network(rt['addr']), gateway=rt['gw'])\n",
    "        \n",
    "#for initialization purposes, force Consumer 1 to route through Router 2\n",
    "#by disabling it's visibility into Router 1\n",
    "slice.get_node(name=\"consumer1\").ip_route_del(subnet=IPv4Network(\"10.10.4.0/24\"), gateway=\"10.10.1.10\")"
   ]
  },
  {
   "cell_type": "markdown",
   "id": "8a28b0ee-9898-4637-adb9-39e05275fb08",
   "metadata": {},
   "source": [
    "## Optional: Draw the Topology\n",
    "\n",
    "Draw the configuration based on the list arguments declared towards the start of this Notebook.\n",
    "\n",
    "Note -- This does not draw from what FABRIC actually created. It draws what we wanted FABRIC to create. If methods aren't called correctly there will be a disconnect between these two."
   ]
  },
  {
   "cell_type": "code",
   "execution_count": null,
   "id": "fede2089-99df-4a5c-8c27-62c96d6d48c3",
   "metadata": {},
   "outputs": [],
   "source": [
    "l2_nets = []\n",
    "hosts   = []\n",
    "l3_nets = []\n",
    "for n in slice.get_l2networks():\n",
    "    print( \"L2 \" + n.get_name() )\n",
    "    l2_nets.append( (n.get_name(), {'color': 'lavender'}) )\n",
    "for n in slice.get_l3networks():\n",
    "    print( \"L3 \" + n.get_name() )\n",
    "    l3_nets.append( (n.get_name(), {'color': 'pink'}) )\n",
    "for n in slice.get_nodes():\n",
    "    print( \"Node \" + n.get_name() )\n",
    "    hosts.append( (n.get_name(), {'color': 'lightblue'}) )\n",
    "nodes   = l2_nets + l3_nets + hosts\n",
    "\n",
    "edges = []\n",
    "for iface in slice.get_interfaces():\n",
    "    ifDict = iface.toDict()\n",
    "    edges.append( (ifDict['network'], ifDict['node'], {'label': ifDict['physical_dev'] + '\\n' + ifDict['ip_addr'] + '\\n' + ifDict['mac']}) )\n",
    "     "
   ]
  },
  {
   "cell_type": "code",
   "execution_count": null,
   "id": "03630c56-82cf-40d6-8ec2-1d6d6611928c",
   "metadata": {},
   "outputs": [],
   "source": [
    "import networkx as nx\n",
    "import matplotlib.pyplot as plt\n",
    "plt.figure(figsize=(len(nodes),len(nodes)))\n",
    "G = nx.Graph()\n",
    "G.add_nodes_from(nodes)\n",
    "G.add_edges_from(edges)\n",
    "pos = nx.spring_layout(G)\n",
    "nx.draw(G, pos, node_shape='s',  \n",
    "        node_color=[n[1]['color'] for n in nodes], \n",
    "        node_size=[len(n[0])*400 for n in nodes],  \n",
    "        with_labels=True);\n",
    "\n",
    "nx.draw_networkx_edge_labels(G, pos,\n",
    "                             edge_labels=nx.get_edge_attributes(G,'label'),\n",
    "                             font_color='gray',  font_size=8, rotate=False);"
   ]
  },
  {
   "cell_type": "markdown",
   "id": "4a0e630c-687d-4a92-80d0-bc4fff90c9ec",
   "metadata": {},
   "source": [
    "## Log into nodes\n",
    "Get the ssh commands for the Consumers, Routers, and Server"
   ]
  },
  {
   "cell_type": "code",
   "execution_count": null,
   "id": "fb25a215-f073-4a0d-b583-4994c1326539",
   "metadata": {},
   "outputs": [],
   "source": [
    "print( slice.get_node(\"consumer1\").get_ssh_command() )"
   ]
  },
  {
   "cell_type": "code",
   "execution_count": null,
   "id": "cf3255f4-84dc-45a8-951e-a6b38e2529ea",
   "metadata": {},
   "outputs": [],
   "source": [
    "print( slice.get_node(\"consumer2\").get_ssh_command() )"
   ]
  },
  {
   "cell_type": "code",
   "execution_count": null,
   "id": "ce9a5ba0-7f41-48ab-bbb8-1994630ce332",
   "metadata": {},
   "outputs": [],
   "source": [
    "print( slice.get_node(\"router1\").get_ssh_command() )"
   ]
  },
  {
   "cell_type": "code",
   "execution_count": null,
   "id": "05e97510-05a2-4f18-8e78-6e346fa19f5f",
   "metadata": {},
   "outputs": [],
   "source": [
    "print( slice.get_node(\"router2\").get_ssh_command() )"
   ]
  },
  {
   "cell_type": "code",
   "execution_count": null,
   "id": "82837b42-6c9c-49fa-8752-3ccddf3f1244",
   "metadata": {},
   "outputs": [],
   "source": [
    "print( slice.get_node(\"server\").get_ssh_command() )"
   ]
  },
  {
   "cell_type": "code",
   "execution_count": null,
   "id": "a5452374-182b-4139-add1-5d58e0838386",
   "metadata": {},
   "outputs": [],
   "source": [
    "print( slice.get_node(\"meas-node\").get_ssh_command() )"
   ]
  },
  {
   "cell_type": "markdown",
   "id": "4befb88b-957f-4ef0-9c91-919c64197bbf",
   "metadata": {},
   "source": [
    "## Initialize MFLib object"
   ]
  },
  {
   "cell_type": "code",
   "execution_count": null,
   "id": "ccfe164b-1817-4b2a-b871-054a1d68b121",
   "metadata": {},
   "outputs": [],
   "source": [
    "%%time\n",
    "mf = MFLib(slice_name)"
   ]
  },
  {
   "cell_type": "markdown",
   "id": "576bc80e-d9bb-4644-9d2b-71284ae6a599",
   "metadata": {},
   "source": [
    "## Install Prometheus and Grafana\n",
    "\n",
    "Install the 2 tools and then get the access information"
   ]
  },
  {
   "cell_type": "code",
   "execution_count": null,
   "id": "54986225-8f3b-44f0-8ad6-f2f439048729",
   "metadata": {},
   "outputs": [],
   "source": [
    "%%time\n",
    "instrumetize_results = mf.instrumentize( [\"prometheus\"] )"
   ]
  },
  {
   "cell_type": "code",
   "execution_count": null,
   "id": "e77f98ce-6a50-4907-98a9-a7790bbc3123",
   "metadata": {},
   "outputs": [],
   "source": [
    "# Grafana SSH Tunnel Command\n",
    "# mf.grafana_tunnel_local_port = 10010 # optionally change the port\n",
    "print(mf.grafana_tunnel)\n",
    "\n",
    "print(f\"Browse to https://localhost:{mf.grafana_tunnel_local_port}/grafana/dashboards?query=%2A\")"
   ]
  },
  {
   "cell_type": "code",
   "execution_count": null,
   "id": "bffef93a-5cbc-4ea6-9fde-59b9ea07209f",
   "metadata": {},
   "outputs": [],
   "source": [
    "# The grafana_manager service was created by the mf.instrumentize call.\n",
    "# Get access info for Grafana by using the mflib.info call to the grafana_manager.\n",
    "# Create a dictionary to pass to the service.\n",
    "data = {}\n",
    "# Set the info you want to get.\n",
    "data[\"get\"] = [\"admin_password\"]\n",
    "# Call info using service name and data dictionary.\n",
    "info_results = mf.info(\"grafana_manager\", data)\n",
    "print(info_results)"
   ]
  },
  {
   "cell_type": "markdown",
   "id": "bf3b99df-86a3-4b75-a669-50d8e23bf326",
   "metadata": {},
   "source": [
    "## Formulate Prometheus Queries\n",
    "The following steps help establish a means to query the Prometheus data set from the Command Line"
   ]
  },
  {
   "cell_type": "code",
   "execution_count": null,
   "id": "1146696f-3ad3-4128-87d8-4c1ccd638509",
   "metadata": {},
   "outputs": [],
   "source": [
    "from mflib.data_transfer import PrometheusExporter\n",
    "prom_tools = PrometheusExporter(slice_name=slice_name)"
   ]
  },
  {
   "cell_type": "code",
   "execution_count": null,
   "id": "76644d45-db56-4a7f-b658-271cf3381275",
   "metadata": {},
   "outputs": [],
   "source": [
    "# Get prometheus admin credentials so we can create snapshots\n",
    "data={}\n",
    "data[\"get\"] = [\"ht_user\", \"ht_password\"]\n",
    "prom_credentials = prom_tools.info(\"prometheus\", data)\n",
    "print( prom_credentials )"
   ]
  },
  {
   "cell_type": "markdown",
   "id": "158551d4-ee45-4fb5-91a8-e3e3f1afc0e5",
   "metadata": {},
   "source": [
    "We will use the credentials from above in order to form queries to run in Prometheus.\n",
    "\n",
    "Below is an example query that will not be used in practice for this Notebook."
   ]
  },
  {
   "cell_type": "code",
   "execution_count": null,
   "id": "2bdff5aa-77b5-4e45-abf0-7aac9c78cfac",
   "metadata": {},
   "outputs": [],
   "source": [
    "promUser = prom_credentials[\"ht_user\"]\n",
    "promPass =  prom_credentials[\"ht_password\"]\n",
    "nodeToMeasure = \"router2\"\n",
    "linkToMonitor = \"enp9s0\"\n",
    "\n",
    "sampleGetCmd = \"curl -G -k --user \\'\" + promUser +\"\\':\\'\" + promPass + \"\\' --data-urlencode 'query=rate(node_network_receive_packets_total{instance=\\\"\" + nodeToMeasure + \"\\\",job=\\\"node\\\", device=\\\"\" + linkToMonitor + \"\\\"}[1m])' https://localhost:9090/api/v1/query\"\n",
    "\n",
    "print( sampleGetCmd )"
   ]
  },
  {
   "cell_type": "markdown",
   "id": "70cfaeeb-4771-4a85-a8ea-84b96a9de06c",
   "metadata": {},
   "source": [
    "The queries (populating the 'query=<data>' section of the curl command) in the following sections were derived from reviewing the Grafan dashboard. By opening a specific chart and reviewing the JSON file there is a section labeled \"targets[ ... expr = \"\" ...]\" The expr contains the generic syntax to get the data plotted by Grafana. To get it for a specific node and connection you simply need to reverse engineer which fields of the graph are poplating which variable in the expr. "
   ]
  },
  {
   "cell_type": "markdown",
   "id": "166f55bf-8b44-4236-b037-db27970a4512",
   "metadata": {},
   "source": [
    "### Command to monitor Router 2\n",
    "\n",
    "The above \"curl\" command will return the number of packets being routed through Router 2 along a specific network interface (not necessarily an interface we care about).\n",
    "\n",
    "It has some weaknesses that need to be addressed. The first is it's monitoring an arbitrary interface in the \"linkToMonitor\" argument. SSH into Router 2 if you haven't already. Run an `ifconfig` in the terminal and look for the device with IP \"10.10.5.20\" which is the interface to the Server from Router 2. Replace the \"linkToMonitor\" with the name of the device with the corresponding IP (it should be enp#s#)\n",
    "\n",
    "The command below also differs from the generic in that it trims the excess response information off the return. The generic returns all the HTTP confirmation of successful command as well as the time stamp of the measurement. Since our interest is solely the number of packets being routed through here, we will trim all the excess information to get just that value."
   ]
  },
  {
   "cell_type": "code",
   "execution_count": null,
   "id": "150f430d-2531-48b7-868b-f351691e2c5d",
   "metadata": {},
   "outputs": [],
   "source": [
    "promUser = prom_credentials[\"ht_user\"]\n",
    "promPass =  prom_credentials[\"ht_password\"]\n",
    "nodeToMeasure = \"router2\"\n",
    "linkToMonitor = \"enp7s0\" #may need updating\n",
    "\n",
    "router2ToServerPacketsCmd = \"curl -G -k --user \\'\" + promUser +\"\\':\\'\" + promPass + \"\\' --data-urlencode 'query=rate(node_network_receive_packets_total{instance=\\\"\" + nodeToMeasure + \"\\\",job=\\\"node\\\", device=\\\"\" + linkToMonitor + \"\\\"}[1m])' https://localhost:9090/api/v1/query | xargs echo | sed \\'s/.*value//g\\' | tr -d \\\"[]{}:\\\" |sed \\'s/.*,//g\\'\"\n",
    "\n",
    "print( router2ToServerPacketsCmd )"
   ]
  },
  {
   "cell_type": "markdown",
   "id": "8b9e778c-759f-4c9a-9c63-e6a7bb7382c0",
   "metadata": {},
   "source": [
    "Since we also intend to monitor the router's bandwidth, the following command will return the measured router speed."
   ]
  },
  {
   "cell_type": "code",
   "execution_count": null,
   "id": "ad2f9bdc-8785-4f23-be7a-418656a9a8a7",
   "metadata": {},
   "outputs": [],
   "source": [
    "promUser = prom_credentials[\"ht_user\"]\n",
    "promPass =  prom_credentials[\"ht_password\"]\n",
    "nodeToMeasure = \"router2\"\n",
    "\n",
    "router2ToServerBandwidthCmd = \"curl -G -k --user \\'\" + promUser +\"\\':\\'\" + promPass + \"\\' --data-urlencode 'query=node_network_speed_bytes{instance=\\\"\" + nodeToMeasure + \"\\\",job=\\\"node\\\"}' https://localhost:9090/api/v1/query  | xargs echo | sed \\'s/.*value//g\\' | tr -d \\\"[]{}:\\\" |sed \\'s/.*,//g\\'\"\n",
    "\n",
    "print( router2ToServerBandwidthCmd )"
   ]
  },
  {
   "cell_type": "markdown",
   "id": "b41f70af-413f-4412-84ab-9c92d62a561d",
   "metadata": {},
   "source": [
    "### Command to monitor Router 1\n",
    "\n",
    "We'll need to do some similar work to get a measurement command set-up for Router 1\n",
    "\n",
    "SSH into Router 1 if you haven't already. Run an `ifconfig` in the terminal and look for the device with IP \"10.10.4.10\" which is the interface to the Server from Router 1. Replace the \"linkToMonitor\" with the name of the device with the corresponding IP (it should be enp#s#)"
   ]
  },
  {
   "cell_type": "code",
   "execution_count": null,
   "id": "39d1a6bb-3a03-400f-9f3b-ab46cc4d24d9",
   "metadata": {},
   "outputs": [],
   "source": [
    "promUser = prom_credentials[\"ht_user\"]\n",
    "promPass =  prom_credentials[\"ht_password\"]\n",
    "nodeToMeasure = \"router1\"\n",
    "linkToMonitor = \"enp8s0\" #may need updating\n",
    "\n",
    "router1ToServerPacketsCmd = \"curl -G -k --user \\'\" + promUser +\"\\':\\'\" + promPass + \"\\' --data-urlencode 'query=rate(node_network_receive_packets_total{instance=\\\"\" + nodeToMeasure + \"\\\",job=\\\"node\\\", device=\\\"\" + linkToMonitor + \"\\\"}[1m])' https://localhost:9090/api/v1/query  | xargs echo | sed \\'s/.*value//g\\' | tr -d \\\"[]{}:\\\" |sed \\'s/.*,//g\\'\"\n",
    "\n",
    "print( router1ToServerPacketsCmd )"
   ]
  },
  {
   "cell_type": "code",
   "execution_count": null,
   "id": "adce9ec5-9fa5-440e-a8d3-472a5ad1e591",
   "metadata": {},
   "outputs": [],
   "source": [
    "promUser = prom_credentials[\"ht_user\"]\n",
    "promPass =  prom_credentials[\"ht_password\"]\n",
    "nodeToMeasure = \"router1\"\n",
    "\n",
    "router1ToServerBandwidthCmd = \"curl -G -k --user \\'\" + promUser +\"\\':\\'\" + promPass + \"\\' --data-urlencode 'query=node_network_speed_bytes{instance=\\\"\" + nodeToMeasure + \"\\\",job=\\\"node\\\"}' https://localhost:9090/api/v1/query  | xargs echo | sed \\'s/.*value//g\\' | tr -d \\\"[]{}:\\\" |sed \\'s/.*,//g\\'\"\n",
    "\n",
    "print( router1ToServerBandwidthCmd )"
   ]
  },
  {
   "cell_type": "markdown",
   "id": "38efac30-1d9a-4372-b734-0b0a13828964",
   "metadata": {},
   "source": [
    "## Route Switching\n",
    "\n",
    "This section takes everything that's been configured and runs the path switching logic. It will iterate a few times, and the environment can be reconfigured at any point between executions.\n",
    "\n",
    "It is advised to be SSH'd into Consumer 2 manually and not have that run as part of this loop.\n",
    "\n",
    "The expected execution order is to\n",
    "1) Run this loop once and confirm traffic flows through Router 2\n",
    "2) Login to Consumer 2 and start an indefinite ping of the Server (`ping server`)\n",
    "3) Re-run this loop and observe Consumer 1 flowing it's traffic through Router 1\n",
    "4) Optionally stop Consumer 2 and see Consumer 1 return to pinging through Router 2"
   ]
  },
  {
   "cell_type": "code",
   "execution_count": null,
   "id": "73b02e7b-3b53-4eb2-9ceb-5707f3345642",
   "metadata": {},
   "outputs": [],
   "source": [
    "#We will redefine the commands defined earlier including\n",
    "# router1ToServerPacketsCmd\n",
    "# router1ToServerBandwidthCmd\n",
    "# router2ToServerPacketsCmd\n",
    "# router2ToServerBandwidthCmd\n",
    "\n",
    "measNode = slice.get_node(name=\"meas-node\")\n",
    "con1Node = slice.get_node(name=\"consumer1\")\n",
    "\n",
    "#initialize variables to use\n",
    "router1Bandwidth = 0\n",
    "router1Connections = 0\n",
    "router2Bandwidth = 0\n",
    "router2Connections = 0\n",
    "#earlier step disabled path through router 1\n",
    "#so we know router 2 is default\n",
    "routerPath = 2\n",
    "\n",
    "loopCnt = 0\n",
    "MAX_LOOPS = 10\n",
    "measResult = \"\"\n",
    "\n",
    "#loop a specified number of times\n",
    "while( loopCnt < MAX_LOOPS ):\n",
    "    print(\"\\nLoop \" + str(loopCnt + 1) + \"/\" + str(MAX_LOOPS) )\n",
    "    loopCnt += 1\n",
    "    #get the router stats\n",
    "    try:\n",
    "        measResult, stderr = measNode.execute(router1ToServerPacketsCmd, quiet=True)\n",
    "        router1Connections = int(float(measResult))\n",
    "    except Exception as e:\n",
    "        print(f\"Exception: {e}\")\n",
    "    try:\n",
    "        measResult, stderr = measNode.execute(router1ToServerBandwidthCmd, quiet=True)\n",
    "        router1Bandwidth = int(float(measResult))\n",
    "    except Exception as e:\n",
    "        print(f\"Exception: {e}\")\n",
    "    try:\n",
    "        measResult, stderr = measNode.execute(router2ToServerPacketsCmd, quiet=True)\n",
    "        router2Connections = int(float(measResult))\n",
    "    except Exception as e:\n",
    "        print(f\"Exception: {e}\")\n",
    "    try:\n",
    "        measResult, stderr = measNode.execute(router2ToServerBandwidthCmd, quiet=True)\n",
    "        router2Bandwidth = int(float(measResult))\n",
    "    except Exception as e:\n",
    "        print(f\"Exception: {e}\")\n",
    "    \n",
    "    #Because router 1 & 2 are configured to identical bandwidths we\n",
    "    #artifically lower router 1's measured bandwidth to create a value\n",
    "    #difference in forwarding\n",
    "    router1Bandwidth = int(router1Bandwidth * 0.9)\n",
    "    print(\" Router 1 : \" + str(int(router1Bandwidth / (1024*1024))) + \" Mps / \" + str(router1Connections) )\n",
    "    print(\" Router 2 : \" + str(int(router2Bandwidth / (1024*1024))) + \" Mps / \" + str(router2Connections) )\n",
    "    \n",
    "    #\n",
    "    # Review and update forwarding table before next ping set\n",
    "    # This will be done by looking at bandwidth and dividing it by\n",
    "    # the number of connections+1 (the +1 is to account for consumer 1)\n",
    "    #\n",
    "    #do not accidentally recount consumer 1 among the connections on router 1\n",
    "    if( (1 == routerPath) and (router1Connections > 1) ):\n",
    "        router1Connections -= 1\n",
    "    router1EstBandwidth = router1Bandwidth / (router1Connections+1)\n",
    "    #do not accidentally recount consumer 1 among the connections on router 2\n",
    "    if( (2 == routerPath) and (router2Connections > 1) ):\n",
    "        router2Connections -= 1\n",
    "    router2EstBandwidth = router2Bandwidth / (router2Connections+1)\n",
    "    #pick forwarding\n",
    "    if( router1EstBandwidth > router2EstBandwidth ):\n",
    "        print(\"  Forwarding through Router 1\")\n",
    "        #updates will be necessary if not already using router 1\n",
    "        if( 1 != routerPath ):\n",
    "            #disable link to router 2 and enable router 1\n",
    "            con1Node.ip_route_del(subnet=IPv4Network(\"10.10.5.0/24\"), gateway=\"10.10.2.20\")\n",
    "            con1Node.ip_route_add(subnet=IPv4Network(\"10.10.4.0/24\"), gateway=\"10.10.1.10\")\n",
    "            routerPath = 1\n",
    "    else:\n",
    "        print(\"  Forwarding through Router 2\")\n",
    "        #updates will be necessary if not already using router 1\n",
    "        if( 2 != routerPath ):\n",
    "            #disable link to router 1 and enable router 2\n",
    "            con1Node.ip_route_del(subnet=IPv4Network(\"10.10.4.0/24\"), gateway=\"10.10.1.10\")\n",
    "            con1Node.ip_route_add(subnet=IPv4Network(\"10.10.5.0/24\"), gateway=\"10.10.2.20\")\n",
    "            routerPath = 2\n",
    "    \n",
    "    #execute some pings on this path\n",
    "    print(\"<<<<<PING CMDS>>>>>\")\n",
    "    try:\n",
    "        stdout, stderr = con1Node.execute(f'ping -c 10 server')\n",
    "    except Exception as e:\n",
    "        print(f\"Exception: {e}\")\n",
    "    print(\"===================\")\n",
    "\n",
    "print(\" LOOPS FINISHED \")\n",
    "\n",
    "#reconfigure to have router 1 disabled & router 2 enabled\n",
    "#for clean repeats of this code\n",
    "if( 2 != routerPath ):\n",
    "    #disable link to router 1 and enable router 2\n",
    "    con1Node.ip_route_del(subnet=IPv4Network(\"10.10.4.0/24\"), gateway=\"10.10.1.10\")\n",
    "    con1Node.ip_route_add(subnet=IPv4Network(\"10.10.5.0/24\"), gateway=\"10.10.2.20\")\n",
    "    routerPath = 2"
   ]
  },
  {
   "cell_type": "markdown",
   "id": "01f553d4-b62a-464c-b372-20d7dd06a79b",
   "metadata": {},
   "source": [
    "## Route Switching (MANUAL DEBUG)"
   ]
  },
  {
   "cell_type": "markdown",
   "id": "bcc5793c-d0d2-4322-ac02-456f9ce652f1",
   "metadata": {},
   "source": [
    "The following are steps that can be executed to support a manual debug of any anomolous behaviors that may occur when path switching. They are not part of the scope of the Notebook & can be skipped to proceed to the clean-up step."
   ]
  },
  {
   "cell_type": "code",
   "execution_count": null,
   "id": "4aa66736-6b82-462f-860d-ba97f2b2523c",
   "metadata": {},
   "outputs": [],
   "source": [
    "slice.get_node(name=\"consumer1\").ip_route_del(subnet=IPv4Network(\"10.10.5.0/24\"), gateway=\"10.10.2.20\")"
   ]
  },
  {
   "cell_type": "code",
   "execution_count": null,
   "id": "541c011d-e43b-4bdf-8cdf-8757aee7c1b8",
   "metadata": {},
   "outputs": [],
   "source": [
    "slice.get_node(name=\"consumer1\").ip_route_del(subnet=IPv4Network(\"10.10.4.0/24\"), gateway=\"10.10.1.10\")"
   ]
  },
  {
   "cell_type": "code",
   "execution_count": null,
   "id": "49232d8c-229e-4af1-9ecd-096f9fd2bfa3",
   "metadata": {},
   "outputs": [],
   "source": [
    "slice.get_node(name=\"consumer1\").ip_route_add(subnet=IPv4Network(\"10.10.5.0/24\"), gateway=\"10.10.2.20\")"
   ]
  },
  {
   "cell_type": "code",
   "execution_count": null,
   "id": "8a3c6d58-6a7d-4371-932f-4c3d3585ac44",
   "metadata": {},
   "outputs": [],
   "source": [
    "slice.get_node(name=\"consumer1\").ip_route_add(subnet=IPv4Network(\"10.10.4.0/24\"), gateway=\"10.10.1.10\")"
   ]
  },
  {
   "cell_type": "code",
   "execution_count": null,
   "id": "3eb5991e-0bc2-43b5-b380-8cb40c7055c1",
   "metadata": {},
   "outputs": [],
   "source": [
    "#This debug section serves as a means to confirm\n",
    "#route switching works without enabling all of MFLib\n",
    "#(the output has been demonstrated to swap pathes as intended)\n",
    "\n",
    "con1Node = slice.get_node(name=\"consumer1\")\n",
    "\n",
    "#initialize variables to use\n",
    "routerPath = 2\n",
    "loopCnt = 0\n",
    "MAX_LOOPS = 10\n",
    "\n",
    "#loop a specified number of times\n",
    "while( loopCnt < MAX_LOOPS ):\n",
    "    print(\"\\nLoop \" + str(loopCnt + 1) + \"/\" + str(MAX_LOOPS) )\n",
    "    loopCnt += 1\n",
    "    #Alternate forwarding path\n",
    "    if( 2 == routerPath ):\n",
    "        print(\"  Switching to Router 1\")\n",
    "        #disable link to router 2 and enable router 1\n",
    "        con1Node.ip_route_del(subnet=IPv4Network(\"10.10.5.0/24\"), gateway=\"10.10.2.20\")\n",
    "        con1Node.ip_route_add(subnet=IPv4Network(\"10.10.4.0/24\"), gateway=\"10.10.1.10\")\n",
    "        routerPath = 1\n",
    "    else:\n",
    "        print(\"  Switching to Router 2\")\n",
    "        #disable link to router 1 and enable router 2\n",
    "        con1Node.ip_route_del(subnet=IPv4Network(\"10.10.4.0/24\"), gateway=\"10.10.1.10\")\n",
    "        con1Node.ip_route_add(subnet=IPv4Network(\"10.10.5.0/24\"), gateway=\"10.10.2.20\")\n",
    "        routerPath = 2\n",
    "    \n",
    "    #execute some pings on this path\n",
    "    print(\"<<<<<PING CMDS>>>>>\")\n",
    "    try:\n",
    "        stdout, stderr = con1Node.execute(f'ping -c 3 server')\n",
    "    except Exception as e:\n",
    "        print(f\"Exception: {e}\")\n",
    "    print(\"===================\")\n",
    "\n",
    "print(\" LOOPS FINISHED \")"
   ]
  },
  {
   "cell_type": "markdown",
   "id": "2584d4e5-f1aa-4357-a79a-73692b513425",
   "metadata": {},
   "source": [
    "## Cleanup\n",
    "Step to delete the slice"
   ]
  },
  {
   "cell_type": "code",
   "execution_count": null,
   "id": "f96b31d3-c0b3-4f38-96d9-49ff37156419",
   "metadata": {},
   "outputs": [],
   "source": [
    "slice = fablib.get_slice(name=slice_name)\n",
    "slice.delete()"
   ]
  },
  {
   "cell_type": "code",
   "execution_count": null,
   "id": "86f9036a-6648-4e19-9d0d-6931ec46335f",
   "metadata": {},
   "outputs": [],
   "source": []
  }
 ],
 "metadata": {
  "kernelspec": {
   "display_name": "Python 3 (ipykernel)",
   "language": "python",
   "name": "python3"
  },
  "language_info": {
   "codemirror_mode": {
    "name": "ipython",
    "version": 3
   },
   "file_extension": ".py",
   "mimetype": "text/x-python",
   "name": "python",
   "nbconvert_exporter": "python",
   "pygments_lexer": "ipython3",
   "version": "3.10.6"
  }
 },
 "nbformat": 4,
 "nbformat_minor": 5
}
